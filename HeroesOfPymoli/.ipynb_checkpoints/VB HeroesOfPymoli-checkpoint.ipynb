{
 "cells": [
  {
   "cell_type": "markdown",
   "id": "5d93adc5",
   "metadata": {},
   "source": [
    "import pandas as pd\n",
    "import os\n",
    "filepath=os.path.join(\"Resources\",\"purchase_data.csv\")\n",
    "\n",
    "purchaseData = pd.read_csv(filepath)\n",
    "len(purchaseData)#head().style\n",
    "purchaseData"
   ]
  },
  {
   "cell_type": "markdown",
   "id": "2536dd0f",
   "metadata": {},
   "source": [
    "# Player Count"
   ]
  },
  {
   "cell_type": "code",
   "execution_count": 1,
   "id": "856a7cb9",
   "metadata": {
    "scrolled": true
   },
   "outputs": [
    {
     "ename": "NameError",
     "evalue": "name 'purchaseData' is not defined",
     "output_type": "error",
     "traceback": [
      "\u001b[1;31m---------------------------------------------------------------------------\u001b[0m",
      "\u001b[1;31mNameError\u001b[0m                                 Traceback (most recent call last)",
      "\u001b[1;32m~\\AppData\\Local\\Temp/ipykernel_5136/4143307028.py\u001b[0m in \u001b[0;36m<module>\u001b[1;34m\u001b[0m\n\u001b[1;32m----> 1\u001b[1;33m \u001b[0mdisplay\u001b[0m\u001b[1;33m(\u001b[0m\u001b[0mpurchaseData\u001b[0m\u001b[1;33m[\u001b[0m\u001b[1;33m[\u001b[0m\u001b[1;34m\"SN\"\u001b[0m\u001b[1;33m,\u001b[0m\u001b[1;34m\"Gender\"\u001b[0m\u001b[1;33m]\u001b[0m\u001b[1;33m]\u001b[0m\u001b[1;33m.\u001b[0m\u001b[0mdrop_duplicates\u001b[0m\u001b[1;33m(\u001b[0m\u001b[1;33m)\u001b[0m\u001b[1;33m.\u001b[0m\u001b[0mgroupby\u001b[0m\u001b[1;33m(\u001b[0m\u001b[1;34m\"Gender\"\u001b[0m\u001b[1;33m)\u001b[0m\u001b[1;33m.\u001b[0m\u001b[0magg\u001b[0m\u001b[1;33m(\u001b[0m\u001b[1;33m{\u001b[0m\u001b[1;34m\"SN\"\u001b[0m\u001b[1;33m:\u001b[0m\u001b[1;33m[\u001b[0m\u001b[1;34m\"count\"\u001b[0m\u001b[1;33m]\u001b[0m\u001b[1;33m}\u001b[0m\u001b[1;33m)\u001b[0m\u001b[1;33m)\u001b[0m\u001b[1;33m\u001b[0m\u001b[1;33m\u001b[0m\u001b[0m\n\u001b[0m",
      "\u001b[1;31mNameError\u001b[0m: name 'purchaseData' is not defined"
     ]
    }
   ],
   "source": [
    "display(purchaseData[[\"SN\",\"Gender\"]].drop_duplicates().groupby(\"Gender\").agg({\"SN\":[\"count\"]}))\n"
   ]
  },
  {
   "cell_type": "code",
   "execution_count": null,
   "id": "2f35be49",
   "metadata": {},
   "outputs": [],
   "source": [
    "display(purchaseData.nunique())"
   ]
  },
  {
   "cell_type": "code",
   "execution_count": null,
   "id": "c28036e5",
   "metadata": {},
   "outputs": [],
   "source": [
    "totalnumberofplayers = purchaseData[\"SN\"].nunique()"
   ]
  },
  {
   "cell_type": "code",
   "execution_count": null,
   "id": "a999351c",
   "metadata": {},
   "outputs": [],
   "source": [
    "display(totalnumberofplayers)"
   ]
  },
  {
   "cell_type": "markdown",
   "id": "597022f9",
   "metadata": {},
   "source": [
    "# Purchase Analysis (Total)"
   ]
  },
  {
   "cell_type": "code",
   "execution_count": null,
   "id": "31adc82b",
   "metadata": {},
   "outputs": [],
   "source": [
    "pdunq=purchaseData[[\"Item ID\",\"Gender\"]]\n",
    "ct=len(pdunq)\n",
    "pdunq[\"avg\"]=1/ct\n",
    "pdgrp=pdunq.groupby(\"Gender\").agg({\"Item ID\":[\"count\"],\"avg\":\"sum\"})\n",
    "pdgrp"
   ]
  },
  {
   "cell_type": "code",
   "execution_count": null,
   "id": "47e4b297",
   "metadata": {},
   "outputs": [],
   "source": [
    "numberofuniqueitems = purchaseData[\"Item ID\"].nunique()"
   ]
  },
  {
   "cell_type": "code",
   "execution_count": null,
   "id": "5c3d938b",
   "metadata": {},
   "outputs": [],
   "source": [
    "display(numberofuniqueitems)"
   ]
  },
  {
   "cell_type": "code",
   "execution_count": null,
   "id": "d2e48b2e",
   "metadata": {},
   "outputs": [],
   "source": [
    "averagepurchaseprice = purchaseData[\"Price\"].mean()\n",
    "print(averagepurchaseprice)"
   ]
  },
  {
   "cell_type": "code",
   "execution_count": null,
   "id": "136f3428",
   "metadata": {},
   "outputs": [],
   "source": [
    "totalnumberofpurchases = len(purchaseData)"
   ]
  },
  {
   "cell_type": "code",
   "execution_count": null,
   "id": "a9ef2833",
   "metadata": {},
   "outputs": [],
   "source": [
    "print(totalnumberofpurchases)"
   ]
  },
  {
   "cell_type": "code",
   "execution_count": null,
   "id": "3ffb77a3",
   "metadata": {},
   "outputs": [],
   "source": [
    "totalnumberofrevenue = purchaseData[\"Price\"].sum()"
   ]
  },
  {
   "cell_type": "code",
   "execution_count": null,
   "id": "0549fc9b",
   "metadata": {},
   "outputs": [],
   "source": [
    "print(totalnumberofrevenue)"
   ]
  },
  {
   "cell_type": "markdown",
   "id": "bf6e7503",
   "metadata": {},
   "source": [
    "# Gender Demographics"
   ]
  },
  {
   "cell_type": "code",
   "execution_count": null,
   "id": "642fd1eb",
   "metadata": {
    "scrolled": false
   },
   "outputs": [],
   "source": [
    "pdunq=purchaseData[[\"SN\",\"Gender\"]].drop_duplicates()\n",
    "ct=len(pdunq)\n",
    "pdunq[\"avg\"]=1/ct\n",
    "pdgrp=pdunq.groupby(\"Gender\").agg({\"SN\":[\"count\"],\"avg\":\"sum\"})\n",
    "pdgrp"
   ]
  },
  {
   "cell_type": "code",
   "execution_count": null,
   "id": "49ec9236",
   "metadata": {},
   "outputs": [],
   "source": [
    "pdunq=purchaseData[[\"SN\",\"Gender\"]]\n",
    "ct=len(pdunq)\n",
    "pdunq[\"avg\"]=1/ct\n",
    "pdgrp=pdunq.groupby(\"Gender\").agg({\"SN\":[\"count\"],\"avg\":\"sum\"})\n",
    "pdgrp"
   ]
  },
  {
   "cell_type": "markdown",
   "id": "470537fb",
   "metadata": {},
   "source": [
    "# Purchasing Analysis (Gender)"
   ]
  },
  {
   "cell_type": "code",
   "execution_count": null,
   "id": "1bb699fd",
   "metadata": {},
   "outputs": [],
   "source": [
    "pd=purchaseData[[\"Purchase ID\",\"Gender\",]]\n",
    "ct=len(pd)\n",
    "pd[\"avg\"]=1/ct\n",
    "pdgrp=pd.groupby(\"Age\",\"Purchase ID\").agg({\"Price\":[\"count\"],\"sum\"}) \n",
    "pdgrp"
   ]
  },
  {
   "cell_type": "code",
   "execution_count": null,
   "id": "c8b786cc",
   "metadata": {},
   "outputs": [],
   "source": [
    "print(len(maleplayers))"
   ]
  },
  {
   "cell_type": "code",
   "execution_count": null,
   "id": "897d4715",
   "metadata": {},
   "outputs": [],
   "source": [
    "femaleplayers = purchaseData[purchaseData[\"Gender\"] == \"Female\"]"
   ]
  },
  {
   "cell_type": "code",
   "execution_count": null,
   "id": "a31869c5",
   "metadata": {},
   "outputs": [],
   "source": [
    "print(len(femaleplayers))"
   ]
  },
  {
   "cell_type": "code",
   "execution_count": null,
   "id": "67c23b00",
   "metadata": {},
   "outputs": [],
   "source": [
    "otherplayers = purchaseData[purchaseData[\"Gender\"] == \"Other / Non-Disclosed\"]"
   ]
  },
  {
   "cell_type": "code",
   "execution_count": null,
   "id": "1b6fb585",
   "metadata": {},
   "outputs": [],
   "source": [
    "print(len(otherplayers))"
   ]
  },
  {
   "cell_type": "markdown",
   "id": "4e02f4a5",
   "metadata": {},
   "source": [
    "# Age Demographics"
   ]
  },
  {
   "cell_type": "markdown",
   "id": "4bff11a1",
   "metadata": {},
   "source": [
    "bins = 0,9,14,19,24,29,34,39,40"
   ]
  },
  {
   "cell_type": "code",
   "execution_count": 3,
   "id": "7d4d38b0",
   "metadata": {},
   "outputs": [
    {
     "ename": "SyntaxError",
     "evalue": "unexpected EOF while parsing (Temp/ipykernel_5136/4212805344.py, line 6)",
     "output_type": "error",
     "traceback": [
      "\u001b[1;36m  File \u001b[1;32m\"C:\\Users\\vbari\\AppData\\Local\\Temp/ipykernel_5136/4212805344.py\"\u001b[1;36m, line \u001b[1;32m6\u001b[0m\n\u001b[1;33m    ppd.cut(purchaseData.Age,bins)\u001b[0m\n\u001b[1;37m                                  ^\u001b[0m\n\u001b[1;31mSyntaxError\u001b[0m\u001b[1;31m:\u001b[0m unexpected EOF while parsing\n"
     ]
    }
   ],
   "source": [
    "import numpy as np\n",
    "import pandas as pd\n",
    "bins = [0,9,14,19,24,29,34,39,40]\n",
    "group_names = [\"0-10\",\"10-15\",\"15-20\",\"20-25\",\"15-20\",\"25-30\",\"30-35\",\"35+\",\n",
    "#pdbin = purchaseData[[\"SN\",\"Age\",\"Purchase ID\"]] \n",
    "ppd.cut(purchaseData.Age,bins)\n"
   ]
  },
  {
   "cell_type": "code",
   "execution_count": null,
   "id": "fa98f23d",
   "metadata": {},
   "outputs": [],
   "source": []
  },
  {
   "cell_type": "code",
   "execution_count": null,
   "id": "32d47b22",
   "metadata": {},
   "outputs": [],
   "source": []
  }
 ],
 "metadata": {
  "kernelspec": {
   "display_name": "Python 3 (ipykernel)",
   "language": "python",
   "name": "python3"
  },
  "language_info": {
   "codemirror_mode": {
    "name": "ipython",
    "version": 3
   },
   "file_extension": ".py",
   "mimetype": "text/x-python",
   "name": "python",
   "nbconvert_exporter": "python",
   "pygments_lexer": "ipython3",
   "version": "3.9.7"
  }
 },
 "nbformat": 4,
 "nbformat_minor": 5
}
